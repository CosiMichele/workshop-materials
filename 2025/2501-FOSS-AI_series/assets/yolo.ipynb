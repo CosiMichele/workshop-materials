{
 "cells": [
  {
   "cell_type": "code",
   "execution_count": null,
   "metadata": {},
   "outputs": [],
   "source": [
    "# 1 ######################\n",
    "# Create python environment\n",
    "# !python -m venv yolo\n",
    "# !pip install torch numpy notebook ipykernel opencv-python\n",
    "# !python3 -m ipykernel install --name \"yolo\" --user\n",
    "# !sudo apt-get install vlc\n",
    "# 2 ######################\n",
    "# !pip install ultralytics\n",
    "# or\n",
    "# !conda create -n yolo\n",
    "# !conda activate yolo\n",
    "# !conda install -c conda-forge ultralytics\n",
    "# 2 ######################\n",
    "# Download yolo11 detection from here: https://docs.ultralytics.com/models/yolo11/#supported-tasks-and-modes\n",
    "# !wget https://github.com/ultralytics/assets/releases/download/v8.3.0/yolo11n.pt\n",
    "# 3 ######################\n",
    "# Download bean data\n",
    "# 3.1 Go to https://universe.roboflow.com/test-fdsxz/beans-dijdm/dataset/1\n",
    "# 3.2 Login \n",
    "# 3.3 Download txt for yolo11\n",
    "# 4 ######################\n",
    "# Train"
   ]
  },
  {
   "cell_type": "code",
   "execution_count": null,
   "metadata": {},
   "outputs": [],
   "source": [
    "from ultralytics import YOLO"
   ]
  },
  {
   "cell_type": "code",
   "execution_count": null,
   "metadata": {},
   "outputs": [],
   "source": [
    "model = YOLO(\"yolo11n.pt\")"
   ]
  }
 ],
 "metadata": {
  "kernelspec": {
   "display_name": "yolo",
   "language": "python",
   "name": "python3"
  },
  "language_info": {
   "codemirror_mode": {
    "name": "ipython",
    "version": 3
   },
   "file_extension": ".py",
   "mimetype": "text/x-python",
   "name": "python",
   "nbconvert_exporter": "python",
   "pygments_lexer": "ipython3",
   "version": "3.12.9"
  }
 },
 "nbformat": 4,
 "nbformat_minor": 2
}
